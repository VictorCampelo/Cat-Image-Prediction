{
 "cells": [
  {
   "cell_type": "markdown",
   "metadata": {},
   "source": [
    "## Packages"
   ]
  },
  {
   "cell_type": "code",
   "execution_count": 1,
   "metadata": {},
   "outputs": [],
   "source": [
    "import numpy as np # is the fundamental package for scientific computing with Python.\n",
    "import matplotlib.pyplot as plt\n",
    "import h5py # is a common package to interact with a dataset that is stored on an H5 file.\n",
    "import scipy # are used here to test the model with own picture at the end.\n",
    "from PIL import Image\n",
    "from scipy import ndimage\n",
    "from lr_utils import load_dataset\n",
    "\n",
    "%matplotlib inline"
   ]
  },
  {
   "cell_type": "markdown",
   "metadata": {},
   "source": [
    "## Loading the data"
   ]
  },
  {
   "cell_type": "code",
   "execution_count": 2,
   "metadata": {},
   "outputs": [],
   "source": [
    "train_set_x_orig, train_set_y, test_set_x_orig, test_set_y, classes = load_dataset()"
   ]
  },
  {
   "cell_type": "markdown",
   "metadata": {},
   "source": [
    "## Exploring Data"
   ]
  },
  {
   "cell_type": "code",
   "execution_count": 9,
   "metadata": {},
   "outputs": [
    {
     "output_type": "stream",
     "name": "stdout",
     "text": "y = [1], it's a 'cat' picture.\n"
    },
    {
     "output_type": "display_data",
     "data": {
      "text/plain": "<Figure size 432x288 with 1 Axes>",
      "image/svg+xml": "<?xml version=\"1.0\" encoding=\"utf-8\" standalone=\"no\"?>\n<!DOCTYPE svg PUBLIC \"-//W3C//DTD SVG 1.1//EN\"\n  \"http://www.w3.org/Graphics/SVG/1.1/DTD/svg11.dtd\">\n<!-- Created with matplotlib (https://matplotlib.org/) -->\n<svg height=\"250.618594pt\" version=\"1.1\" viewBox=\"0 0 251.565 250.618594\" width=\"251.565pt\" xmlns=\"http://www.w3.org/2000/svg\" xmlns:xlink=\"http://www.w3.org/1999/xlink\">\n <defs>\n  <style type=\"text/css\">\n*{stroke-linecap:butt;stroke-linejoin:round;}\n  </style>\n </defs>\n <g id=\"figure_1\">\n  <g id=\"patch_1\">\n   <path d=\"M 0 250.618594 \nL 251.565 250.618594 \nL 251.565 0 \nL 0 0 \nz\n\" style=\"fill:none;\"/>\n  </g>\n  <g id=\"axes_1\">\n   <g id=\"patch_2\">\n    <path d=\"M 26.925 226.740469 \nL 244.365 226.740469 \nL 244.365 9.300469 \nL 26.925 9.300469 \nz\n\" style=\"fill:#ffffff;\"/>\n   </g>\n   <g clip-path=\"url(#pf1bd27c139)\">\n    <image height=\"218\" id=\"imagedf48c01037\" transform=\"scale(1 -1)translate(0 -218)\" width=\"218\" x=\"26.925\" xlink:href=\"data:image/png;base64,\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\" y=\"-8.740469\"/>\n   </g>\n   <g id=\"matplotlib.axis_1\">\n    <g id=\"xtick_1\">\n     <g id=\"line2d_1\">\n      <defs>\n       <path d=\"M 0 0 \nL 0 3.5 \n\" id=\"md20bc575bf\" style=\"stroke:#000000;stroke-width:0.8;\"/>\n      </defs>\n      <g>\n       <use style=\"stroke:#000000;stroke-width:0.8;\" x=\"28.62375\" xlink:href=\"#md20bc575bf\" y=\"226.740469\"/>\n      </g>\n     </g>\n     <g id=\"text_1\">\n      <!-- 0 -->\n      <defs>\n       <path d=\"M 31.78125 66.40625 \nQ 24.171875 66.40625 20.328125 58.90625 \nQ 16.5 51.421875 16.5 36.375 \nQ 16.5 21.390625 20.328125 13.890625 \nQ 24.171875 6.390625 31.78125 6.390625 \nQ 39.453125 6.390625 43.28125 13.890625 \nQ 47.125 21.390625 47.125 36.375 \nQ 47.125 51.421875 43.28125 58.90625 \nQ 39.453125 66.40625 31.78125 66.40625 \nz\nM 31.78125 74.21875 \nQ 44.046875 74.21875 50.515625 64.515625 \nQ 56.984375 54.828125 56.984375 36.375 \nQ 56.984375 17.96875 50.515625 8.265625 \nQ 44.046875 -1.421875 31.78125 -1.421875 \nQ 19.53125 -1.421875 13.0625 8.265625 \nQ 6.59375 17.96875 6.59375 36.375 \nQ 6.59375 54.828125 13.0625 64.515625 \nQ 19.53125 74.21875 31.78125 74.21875 \nz\n\" id=\"DejaVuSans-48\"/>\n      </defs>\n      <g transform=\"translate(25.4425 241.338906)scale(0.1 -0.1)\">\n       <use xlink:href=\"#DejaVuSans-48\"/>\n      </g>\n     </g>\n    </g>\n    <g id=\"xtick_2\">\n     <g id=\"line2d_2\">\n      <g>\n       <use style=\"stroke:#000000;stroke-width:0.8;\" x=\"62.59875\" xlink:href=\"#md20bc575bf\" y=\"226.740469\"/>\n      </g>\n     </g>\n     <g id=\"text_2\">\n      <!-- 10 -->\n      <defs>\n       <path d=\"M 12.40625 8.296875 \nL 28.515625 8.296875 \nL 28.515625 63.921875 \nL 10.984375 60.40625 \nL 10.984375 69.390625 \nL 28.421875 72.90625 \nL 38.28125 72.90625 \nL 38.28125 8.296875 \nL 54.390625 8.296875 \nL 54.390625 0 \nL 12.40625 0 \nz\n\" id=\"DejaVuSans-49\"/>\n      </defs>\n      <g transform=\"translate(56.23625 241.338906)scale(0.1 -0.1)\">\n       <use xlink:href=\"#DejaVuSans-49\"/>\n       <use x=\"63.623047\" xlink:href=\"#DejaVuSans-48\"/>\n      </g>\n     </g>\n    </g>\n    <g id=\"xtick_3\">\n     <g id=\"line2d_3\">\n      <g>\n       <use style=\"stroke:#000000;stroke-width:0.8;\" x=\"96.57375\" xlink:href=\"#md20bc575bf\" y=\"226.740469\"/>\n      </g>\n     </g>\n     <g id=\"text_3\">\n      <!-- 20 -->\n      <defs>\n       <path d=\"M 19.1875 8.296875 \nL 53.609375 8.296875 \nL 53.609375 0 \nL 7.328125 0 \nL 7.328125 8.296875 \nQ 12.9375 14.109375 22.625 23.890625 \nQ 32.328125 33.6875 34.8125 36.53125 \nQ 39.546875 41.84375 41.421875 45.53125 \nQ 43.3125 49.21875 43.3125 52.78125 \nQ 43.3125 58.59375 39.234375 62.25 \nQ 35.15625 65.921875 28.609375 65.921875 \nQ 23.96875 65.921875 18.8125 64.3125 \nQ 13.671875 62.703125 7.8125 59.421875 \nL 7.8125 69.390625 \nQ 13.765625 71.78125 18.9375 73 \nQ 24.125 74.21875 28.421875 74.21875 \nQ 39.75 74.21875 46.484375 68.546875 \nQ 53.21875 62.890625 53.21875 53.421875 \nQ 53.21875 48.921875 51.53125 44.890625 \nQ 49.859375 40.875 45.40625 35.40625 \nQ 44.1875 33.984375 37.640625 27.21875 \nQ 31.109375 20.453125 19.1875 8.296875 \nz\n\" id=\"DejaVuSans-50\"/>\n      </defs>\n      <g transform=\"translate(90.21125 241.338906)scale(0.1 -0.1)\">\n       <use xlink:href=\"#DejaVuSans-50\"/>\n       <use x=\"63.623047\" xlink:href=\"#DejaVuSans-48\"/>\n      </g>\n     </g>\n    </g>\n    <g id=\"xtick_4\">\n     <g id=\"line2d_4\">\n      <g>\n       <use style=\"stroke:#000000;stroke-width:0.8;\" x=\"130.54875\" xlink:href=\"#md20bc575bf\" y=\"226.740469\"/>\n      </g>\n     </g>\n     <g id=\"text_4\">\n      <!-- 30 -->\n      <defs>\n       <path d=\"M 40.578125 39.3125 \nQ 47.65625 37.796875 51.625 33 \nQ 55.609375 28.21875 55.609375 21.1875 \nQ 55.609375 10.40625 48.1875 4.484375 \nQ 40.765625 -1.421875 27.09375 -1.421875 \nQ 22.515625 -1.421875 17.65625 -0.515625 \nQ 12.796875 0.390625 7.625 2.203125 \nL 7.625 11.71875 \nQ 11.71875 9.328125 16.59375 8.109375 \nQ 21.484375 6.890625 26.8125 6.890625 \nQ 36.078125 6.890625 40.9375 10.546875 \nQ 45.796875 14.203125 45.796875 21.1875 \nQ 45.796875 27.640625 41.28125 31.265625 \nQ 36.765625 34.90625 28.71875 34.90625 \nL 20.21875 34.90625 \nL 20.21875 43.015625 \nL 29.109375 43.015625 \nQ 36.375 43.015625 40.234375 45.921875 \nQ 44.09375 48.828125 44.09375 54.296875 \nQ 44.09375 59.90625 40.109375 62.90625 \nQ 36.140625 65.921875 28.71875 65.921875 \nQ 24.65625 65.921875 20.015625 65.03125 \nQ 15.375 64.15625 9.8125 62.3125 \nL 9.8125 71.09375 \nQ 15.4375 72.65625 20.34375 73.4375 \nQ 25.25 74.21875 29.59375 74.21875 \nQ 40.828125 74.21875 47.359375 69.109375 \nQ 53.90625 64.015625 53.90625 55.328125 \nQ 53.90625 49.265625 50.4375 45.09375 \nQ 46.96875 40.921875 40.578125 39.3125 \nz\n\" id=\"DejaVuSans-51\"/>\n      </defs>\n      <g transform=\"translate(124.18625 241.338906)scale(0.1 -0.1)\">\n       <use xlink:href=\"#DejaVuSans-51\"/>\n       <use x=\"63.623047\" xlink:href=\"#DejaVuSans-48\"/>\n      </g>\n     </g>\n    </g>\n    <g id=\"xtick_5\">\n     <g id=\"line2d_5\">\n      <g>\n       <use style=\"stroke:#000000;stroke-width:0.8;\" x=\"164.52375\" xlink:href=\"#md20bc575bf\" y=\"226.740469\"/>\n      </g>\n     </g>\n     <g id=\"text_5\">\n      <!-- 40 -->\n      <defs>\n       <path d=\"M 37.796875 64.3125 \nL 12.890625 25.390625 \nL 37.796875 25.390625 \nz\nM 35.203125 72.90625 \nL 47.609375 72.90625 \nL 47.609375 25.390625 \nL 58.015625 25.390625 \nL 58.015625 17.1875 \nL 47.609375 17.1875 \nL 47.609375 0 \nL 37.796875 0 \nL 37.796875 17.1875 \nL 4.890625 17.1875 \nL 4.890625 26.703125 \nz\n\" id=\"DejaVuSans-52\"/>\n      </defs>\n      <g transform=\"translate(158.16125 241.338906)scale(0.1 -0.1)\">\n       <use xlink:href=\"#DejaVuSans-52\"/>\n       <use x=\"63.623047\" xlink:href=\"#DejaVuSans-48\"/>\n      </g>\n     </g>\n    </g>\n    <g id=\"xtick_6\">\n     <g id=\"line2d_6\">\n      <g>\n       <use style=\"stroke:#000000;stroke-width:0.8;\" x=\"198.49875\" xlink:href=\"#md20bc575bf\" y=\"226.740469\"/>\n      </g>\n     </g>\n     <g id=\"text_6\">\n      <!-- 50 -->\n      <defs>\n       <path d=\"M 10.796875 72.90625 \nL 49.515625 72.90625 \nL 49.515625 64.59375 \nL 19.828125 64.59375 \nL 19.828125 46.734375 \nQ 21.96875 47.46875 24.109375 47.828125 \nQ 26.265625 48.1875 28.421875 48.1875 \nQ 40.625 48.1875 47.75 41.5 \nQ 54.890625 34.8125 54.890625 23.390625 \nQ 54.890625 11.625 47.5625 5.09375 \nQ 40.234375 -1.421875 26.90625 -1.421875 \nQ 22.3125 -1.421875 17.546875 -0.640625 \nQ 12.796875 0.140625 7.71875 1.703125 \nL 7.71875 11.625 \nQ 12.109375 9.234375 16.796875 8.0625 \nQ 21.484375 6.890625 26.703125 6.890625 \nQ 35.15625 6.890625 40.078125 11.328125 \nQ 45.015625 15.765625 45.015625 23.390625 \nQ 45.015625 31 40.078125 35.4375 \nQ 35.15625 39.890625 26.703125 39.890625 \nQ 22.75 39.890625 18.8125 39.015625 \nQ 14.890625 38.140625 10.796875 36.28125 \nz\n\" id=\"DejaVuSans-53\"/>\n      </defs>\n      <g transform=\"translate(192.13625 241.338906)scale(0.1 -0.1)\">\n       <use xlink:href=\"#DejaVuSans-53\"/>\n       <use x=\"63.623047\" xlink:href=\"#DejaVuSans-48\"/>\n      </g>\n     </g>\n    </g>\n    <g id=\"xtick_7\">\n     <g id=\"line2d_7\">\n      <g>\n       <use style=\"stroke:#000000;stroke-width:0.8;\" x=\"232.47375\" xlink:href=\"#md20bc575bf\" y=\"226.740469\"/>\n      </g>\n     </g>\n     <g id=\"text_7\">\n      <!-- 60 -->\n      <defs>\n       <path d=\"M 33.015625 40.375 \nQ 26.375 40.375 22.484375 35.828125 \nQ 18.609375 31.296875 18.609375 23.390625 \nQ 18.609375 15.53125 22.484375 10.953125 \nQ 26.375 6.390625 33.015625 6.390625 \nQ 39.65625 6.390625 43.53125 10.953125 \nQ 47.40625 15.53125 47.40625 23.390625 \nQ 47.40625 31.296875 43.53125 35.828125 \nQ 39.65625 40.375 33.015625 40.375 \nz\nM 52.59375 71.296875 \nL 52.59375 62.3125 \nQ 48.875 64.0625 45.09375 64.984375 \nQ 41.3125 65.921875 37.59375 65.921875 \nQ 27.828125 65.921875 22.671875 59.328125 \nQ 17.53125 52.734375 16.796875 39.40625 \nQ 19.671875 43.65625 24.015625 45.921875 \nQ 28.375 48.1875 33.59375 48.1875 \nQ 44.578125 48.1875 50.953125 41.515625 \nQ 57.328125 34.859375 57.328125 23.390625 \nQ 57.328125 12.15625 50.6875 5.359375 \nQ 44.046875 -1.421875 33.015625 -1.421875 \nQ 20.359375 -1.421875 13.671875 8.265625 \nQ 6.984375 17.96875 6.984375 36.375 \nQ 6.984375 53.65625 15.1875 63.9375 \nQ 23.390625 74.21875 37.203125 74.21875 \nQ 40.921875 74.21875 44.703125 73.484375 \nQ 48.484375 72.75 52.59375 71.296875 \nz\n\" id=\"DejaVuSans-54\"/>\n      </defs>\n      <g transform=\"translate(226.11125 241.338906)scale(0.1 -0.1)\">\n       <use xlink:href=\"#DejaVuSans-54\"/>\n       <use x=\"63.623047\" xlink:href=\"#DejaVuSans-48\"/>\n      </g>\n     </g>\n    </g>\n   </g>\n   <g id=\"matplotlib.axis_2\">\n    <g id=\"ytick_1\">\n     <g id=\"line2d_8\">\n      <defs>\n       <path d=\"M 0 0 \nL -3.5 0 \n\" id=\"m5191b41742\" style=\"stroke:#000000;stroke-width:0.8;\"/>\n      </defs>\n      <g>\n       <use style=\"stroke:#000000;stroke-width:0.8;\" x=\"26.925\" xlink:href=\"#m5191b41742\" y=\"10.999219\"/>\n      </g>\n     </g>\n     <g id=\"text_8\">\n      <!-- 0 -->\n      <g transform=\"translate(13.5625 14.798437)scale(0.1 -0.1)\">\n       <use xlink:href=\"#DejaVuSans-48\"/>\n      </g>\n     </g>\n    </g>\n    <g id=\"ytick_2\">\n     <g id=\"line2d_9\">\n      <g>\n       <use style=\"stroke:#000000;stroke-width:0.8;\" x=\"26.925\" xlink:href=\"#m5191b41742\" y=\"44.974219\"/>\n      </g>\n     </g>\n     <g id=\"text_9\">\n      <!-- 10 -->\n      <g transform=\"translate(7.2 48.773437)scale(0.1 -0.1)\">\n       <use xlink:href=\"#DejaVuSans-49\"/>\n       <use x=\"63.623047\" xlink:href=\"#DejaVuSans-48\"/>\n      </g>\n     </g>\n    </g>\n    <g id=\"ytick_3\">\n     <g id=\"line2d_10\">\n      <g>\n       <use style=\"stroke:#000000;stroke-width:0.8;\" x=\"26.925\" xlink:href=\"#m5191b41742\" y=\"78.949219\"/>\n      </g>\n     </g>\n     <g id=\"text_10\">\n      <!-- 20 -->\n      <g transform=\"translate(7.2 82.748437)scale(0.1 -0.1)\">\n       <use xlink:href=\"#DejaVuSans-50\"/>\n       <use x=\"63.623047\" xlink:href=\"#DejaVuSans-48\"/>\n      </g>\n     </g>\n    </g>\n    <g id=\"ytick_4\">\n     <g id=\"line2d_11\">\n      <g>\n       <use style=\"stroke:#000000;stroke-width:0.8;\" x=\"26.925\" xlink:href=\"#m5191b41742\" y=\"112.924219\"/>\n      </g>\n     </g>\n     <g id=\"text_11\">\n      <!-- 30 -->\n      <g transform=\"translate(7.2 116.723437)scale(0.1 -0.1)\">\n       <use xlink:href=\"#DejaVuSans-51\"/>\n       <use x=\"63.623047\" xlink:href=\"#DejaVuSans-48\"/>\n      </g>\n     </g>\n    </g>\n    <g id=\"ytick_5\">\n     <g id=\"line2d_12\">\n      <g>\n       <use style=\"stroke:#000000;stroke-width:0.8;\" x=\"26.925\" xlink:href=\"#m5191b41742\" y=\"146.899219\"/>\n      </g>\n     </g>\n     <g id=\"text_12\">\n      <!-- 40 -->\n      <g transform=\"translate(7.2 150.698437)scale(0.1 -0.1)\">\n       <use xlink:href=\"#DejaVuSans-52\"/>\n       <use x=\"63.623047\" xlink:href=\"#DejaVuSans-48\"/>\n      </g>\n     </g>\n    </g>\n    <g id=\"ytick_6\">\n     <g id=\"line2d_13\">\n      <g>\n       <use style=\"stroke:#000000;stroke-width:0.8;\" x=\"26.925\" xlink:href=\"#m5191b41742\" y=\"180.874219\"/>\n      </g>\n     </g>\n     <g id=\"text_13\">\n      <!-- 50 -->\n      <g transform=\"translate(7.2 184.673437)scale(0.1 -0.1)\">\n       <use xlink:href=\"#DejaVuSans-53\"/>\n       <use x=\"63.623047\" xlink:href=\"#DejaVuSans-48\"/>\n      </g>\n     </g>\n    </g>\n    <g id=\"ytick_7\">\n     <g id=\"line2d_14\">\n      <g>\n       <use style=\"stroke:#000000;stroke-width:0.8;\" x=\"26.925\" xlink:href=\"#m5191b41742\" y=\"214.849219\"/>\n      </g>\n     </g>\n     <g id=\"text_14\">\n      <!-- 60 -->\n      <g transform=\"translate(7.2 218.648437)scale(0.1 -0.1)\">\n       <use xlink:href=\"#DejaVuSans-54\"/>\n       <use x=\"63.623047\" xlink:href=\"#DejaVuSans-48\"/>\n      </g>\n     </g>\n    </g>\n   </g>\n   <g id=\"patch_3\">\n    <path d=\"M 26.925 226.740469 \nL 26.925 9.300469 \n\" style=\"fill:none;stroke:#000000;stroke-linecap:square;stroke-linejoin:miter;stroke-width:0.8;\"/>\n   </g>\n   <g id=\"patch_4\">\n    <path d=\"M 244.365 226.740469 \nL 244.365 9.300469 \n\" style=\"fill:none;stroke:#000000;stroke-linecap:square;stroke-linejoin:miter;stroke-width:0.8;\"/>\n   </g>\n   <g id=\"patch_5\">\n    <path d=\"M 26.925 226.740469 \nL 244.365 226.740469 \n\" style=\"fill:none;stroke:#000000;stroke-linecap:square;stroke-linejoin:miter;stroke-width:0.8;\"/>\n   </g>\n   <g id=\"patch_6\">\n    <path d=\"M 26.925 9.300469 \nL 244.365 9.300469 \n\" style=\"fill:none;stroke:#000000;stroke-linecap:square;stroke-linejoin:miter;stroke-width:0.8;\"/>\n   </g>\n  </g>\n </g>\n <defs>\n  <clipPath id=\"pf1bd27c139\">\n   <rect height=\"217.44\" width=\"217.44\" x=\"26.925\" y=\"9.300469\"/>\n  </clipPath>\n </defs>\n</svg>\n",
      "image/png": "[encoded data removed]"
     },
     "metadata": {
      "needs_background": "light"
     }
    }
   ],
   "source": [
    "index = 29\n",
    "plt.imshow(train_set_x_orig[index])\n",
    "print (\"y = \" + str(train_set_y[:, index]) + \", it's a '\" + classes[np.squeeze(train_set_y[:, index])].decode(\"utf-8\") +  \"' picture.\")"
   ]
  },
  {
   "cell_type": "code",
   "execution_count": 10,
   "metadata": {},
   "outputs": [
    {
     "output_type": "stream",
     "name": "stdout",
     "text": "Number of training examples: m_train = 209\nNumber of testing examples: m_test = 50\nHeight/Width of each image: num_px = 64\nEach image is of size: (64, 64, 3)\ntrain_set_x shape: (209, 64, 64, 3)\ntrain_set_y shape: (1, 209)\ntest_set_x shape: (50, 64, 64, 3)\ntest_set_y shape: (1, 50)\n"
    }
   ],
   "source": [
    "m_train = train_set_x_orig.shape[0]\n",
    "m_test = test_set_x_orig.shape[0]\n",
    "num_px = train_set_x_orig.shape[1]\n",
    "print (\"Number of training examples: m_train = \" + str(m_train))\n",
    "print (\"Number of testing examples: m_test = \" + str(m_test))\n",
    "print (\"Height/Width of each image: num_px = \" + str(num_px))\n",
    "print (\"Each image is of size: (\" + str(num_px) + \", \" + str(num_px) + \", 3)\")\n",
    "print (\"train_set_x shape: \" + str(train_set_x_orig.shape))\n",
    "print (\"train_set_y shape: \" + str(train_set_y.shape))\n",
    "print (\"test_set_x shape: \" + str(test_set_x_orig.shape))\n",
    "print (\"test_set_y shape: \" + str(test_set_y.shape))"
   ]
  },
  {
   "cell_type": "markdown",
   "metadata": {},
   "source": [
    "## Reshape values"
   ]
  },
  {
   "cell_type": "code",
   "execution_count": 11,
   "metadata": {},
   "outputs": [],
   "source": [
    "train_set_x_flatten = train_set_x_orig.reshape(train_set_x_orig.shape[0], -1).T\n",
    "test_set_x_flatten = test_set_x_orig.reshape(test_set_x_orig.shape[0], -1).T"
   ]
  },
  {
   "cell_type": "markdown",
   "metadata": {},
   "source": [
    "## Standardize dataset"
   ]
  },
  {
   "cell_type": "code",
   "execution_count": 12,
   "metadata": {},
   "outputs": [],
   "source": [
    "train_set_x = train_set_x_flatten/255.\n",
    "test_set_x = test_set_x_flatten/255."
   ]
  },
  {
   "cell_type": "markdown",
   "metadata": {},
   "source": [
    "## Logistic Regression, using a Neural Network mindset"
   ]
  },
  {
   "cell_type": "markdown",
   "metadata": {},
   "source": [
    "**Mathematical expression of the algorithm**:\n",
    "\n",
    "For one example $x^{(i)}$:\n",
    "$$z^{(i)} = w^T x^{(i)} + b \\tag{1}$$\n",
    "$$\\hat{y}^{(i)} = a^{(i)} = sigmoid(z^{(i)})\\tag{2}$$ \n",
    "$$ \\mathcal{L}(a^{(i)}, y^{(i)}) =  - y^{(i)}  \\log(a^{(i)}) - (1-y^{(i)} )  \\log(1-a^{(i)})\\tag{3}$$\n",
    "\n",
    "The cost is then computed by summing over all training examples:\n",
    "$$ J = \\frac{1}{m} \\sum_{i=1}^m \\mathcal{L}(a^{(i)}, y^{(i)})\\tag{6}$$"
   ]
  },
  {
   "cell_type": "markdown",
   "metadata": {},
   "source": [
    "## Sigmoid Function\n",
    "\n",
    "$sigmoid( w^T x + b) = \\frac{1}{1 + e^{-(w^T x + b)}}$"
   ]
  },
  {
   "cell_type": "code",
   "execution_count": 14,
   "metadata": {},
   "outputs": [],
   "source": [
    "def sigmoid(z):\n",
    "    s = 1/(1+np.exp(-z))\n",
    "    return s"
   ]
  },
  {
   "cell_type": "markdown",
   "metadata": {},
   "source": [
    "### Initializing parameters"
   ]
  },
  {
   "cell_type": "code",
   "execution_count": 17,
   "metadata": {},
   "outputs": [],
   "source": [
    "def initialize_with_zeros(dim):\n",
    "    w = np.zeros([dim, 1])\n",
    "    b = 0\n",
    "    assert(w.shape == (dim, 1))\n",
    "    assert(isinstance(b, float) or isinstance(b, int))\n",
    "    return w, b"
   ]
  },
  {
   "cell_type": "markdown",
   "metadata": {},
   "source": [
    "## Forward and Backward propagation\n",
    "\n",
    "Forward Propagation:\n",
    "- You get X\n",
    "- You compute $A = \\sigma(w^T X + b) = (a^{(1)}, a^{(2)}, ..., a^{(m-1)}, a^{(m)})$\n",
    "- You calculate the cost function: $J = -\\frac{1}{m}\\sum_{i=1}^{m}y^{(i)}\\log(a^{(i)})+(1-y^{(i)})\\log(1-a^{(i)})$\n",
    "\n",
    "Here are the two formulas you will be using: \n",
    "\n",
    "$$ \\frac{\\partial J}{\\partial w} = \\frac{1}{m}X(A-Y)^T\\tag{7}$$\n",
    "$$ \\frac{\\partial J}{\\partial b} = \\frac{1}{m} \\sum_{i=1}^m (a^{(i)}-y^{(i)})\\tag{8}$$"
   ]
  },
  {
   "cell_type": "code",
   "execution_count": 18,
   "metadata": {},
   "outputs": [],
   "source": [
    "def propagate(w, b, X, Y):\n",
    "    m = X.shape[1]\n",
    "    A = sigmoid(np.dot(w.T,X) + b) # compute activation\n",
    "    cost = -1/m * (np.dot(Y,np.log(A).T) + np.dot((1-Y),np.log(1 - A).T)) # compute cost\n",
    "    \n",
    "    dw = 1 / m *(np.dot(X,(A - Y).T))\n",
    "    db = 1 / m *(np.sum(A - Y))\n",
    "    \n",
    "    cost = np.squeeze(cost)\n",
    "    \n",
    "    grads = {\"dw\": dw,\n",
    "             \"db\": db}\n",
    "    \n",
    "    return grads, cost"
   ]
  },
  {
   "cell_type": "markdown",
   "metadata": {},
   "source": [
    "## Optimization\n",
    "\n",
    "The goal is to learn $w$ and $b$ by minimizing the cost function $J$. \n",
    "\n",
    "For a parameter $\\theta$, the update rule is $ \\theta = \\theta - \\alpha \\text{ } d\\theta$, where $\\alpha$ is the learning rate."
   ]
  },
  {
   "cell_type": "code",
   "execution_count": 19,
   "metadata": {},
   "outputs": [],
   "source": [
    "def optimize(w, b, X, Y, num_iterations, learning_rate, print_cost = False):\n",
    "    costs = []\n",
    "    \n",
    "    for i in range(num_iterations):\n",
    "        \n",
    "        \n",
    "        grads, cost = propagate(w,b,X,Y)\n",
    "\n",
    "        # Retrieve derivatives from grads\n",
    "        dw = grads[\"dw\"]\n",
    "        db = grads[\"db\"]\n",
    "        \n",
    "        # update rule\n",
    "        w = w - learning_rate*dw\n",
    "        b = b - learning_rate*db\n",
    "        \n",
    "        # Record the costs\n",
    "        if i % 100 == 0:\n",
    "            costs.append(cost)\n",
    "        \n",
    "        # Print the cost every 100 training iterations\n",
    "        if print_cost and i % 100 == 0:\n",
    "            print (\"Cost after iteration %i: %f\" %(i, cost))\n",
    "    \n",
    "    params = {\"w\": w,\n",
    "              \"b\": b}\n",
    "    \n",
    "    grads = {\"dw\": dw,\n",
    "             \"db\": db}\n",
    "    \n",
    "    return params, grads, costs"
   ]
  },
  {
   "cell_type": "markdown",
   "metadata": {},
   "source": []
  },
  {
   "cell_type": "markdown",
   "metadata": {},
   "source": [
    "## Predict function. \n",
    "\n",
    "There are two steps to computing predictions:\n",
    "\n",
    "1. Calculate $\\hat{Y} = A = \\sigma(w^T X + b)$\n",
    "\n",
    "2. Convert the entries of a into 0 (if activation <= 0.5) or 1 (if activation > 0.5), stores the predictions in a vector Y_prediction."
   ]
  },
  {
   "cell_type": "code",
   "execution_count": 20,
   "metadata": {},
   "outputs": [],
   "source": [
    "def predict(w, b, X):\n",
    "    m = X.shape[1]\n",
    "    Y_prediction = np.zeros((1,m))\n",
    "    w = w.reshape(X.shape[0], 1)\n",
    "    \n",
    "    # Compute vector \"A\" predicting the probabilities of a cat being present in the picture\n",
    "    A = sigmoid(np.dot(w.T,X) + b) \n",
    "    \n",
    "    for i in range(A.shape[1]):\n",
    "        \n",
    "        # Convert probabilities A[0,i] to actual predictions p[0,i]\n",
    "        if(A[0][i] <= 0.5):\n",
    "            Y_prediction[0][i] = 0\n",
    "        else:\n",
    "            Y_prediction[0][i] = 1\n",
    "        \n",
    "    assert(Y_prediction.shape == (1, m))\n",
    "    \n",
    "    return Y_prediction"
   ]
  },
  {
   "cell_type": "code",
   "execution_count": null,
   "metadata": {},
   "outputs": [],
   "source": []
  }
 ],
 "metadata": {
  "language_info": {
   "codemirror_mode": {
    "name": "ipython",
    "version": 3
   },
   "file_extension": ".py",
   "mimetype": "text/x-python",
   "name": "python",
   "nbconvert_exporter": "python",
   "pygments_lexer": "ipython3",
   "version": "3.8.2-final"
  },
  "orig_nbformat": 2,
  "kernelspec": {
   "name": "python38264bit3020e250503847238e19e57aa5720d83",
   "display_name": "Python 3.8.2 64-bit"
  }
 },
 "nbformat": 4,
 "nbformat_minor": 2
}